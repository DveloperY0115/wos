{
 "cells": [
  {
   "cell_type": "code",
   "execution_count": 1,
   "metadata": {},
   "outputs": [
    {
     "name": "stdout",
     "output_type": "stream",
     "text": [
      "/Users/seungwoo/Projects/wos\n"
     ]
    }
   ],
   "source": [
    "%cd .."
   ]
  },
  {
   "cell_type": "code",
   "execution_count": 2,
   "metadata": {},
   "outputs": [],
   "source": [
    "%matplotlib widget\n",
    "\n",
    "%load_ext autoreload\n",
    "%autoreload 2"
   ]
  },
  {
   "cell_type": "code",
   "execution_count": 3,
   "metadata": {},
   "outputs": [
    {
     "name": "stdout",
     "output_type": "stream",
     "text": [
      "[Taichi] version 1.7.1, llvm 15.0.7, commit 0f143b2f, osx, python 3.10.14\n"
     ]
    },
    {
     "name": "stderr",
     "output_type": "stream",
     "text": [
      "[I 06/04/24 20:12:20.473 22141685] [shell.py:_shell_pop_print@23] Graphical python shell detected, using wrapped sys.stdout\n"
     ]
    }
   ],
   "source": [
    "import igl\n",
    "import numpy as np\n",
    "import taichi as ti\n",
    "\n",
    "from src.utils.sampling import (\n",
    "    uniform_ball,\n",
    "    uniform_sphere,\n",
    ")"
   ]
  },
  {
   "cell_type": "code",
   "execution_count": 7,
   "metadata": {},
   "outputs": [
    {
     "name": "stdout",
     "output_type": "stream",
     "text": [
      "[Taichi] Starting on arch=metal\n",
      "(10000, 3) (10000, 3)\n"
     ]
    },
    {
     "data": {
      "text/plain": [
       "True"
      ]
     },
     "execution_count": 7,
     "metadata": {},
     "output_type": "execute_result"
    }
   ],
   "source": [
    "ti.init(arch=ti.gpu)\n",
    "\n",
    "b_samples = ti.Vector.field(n=3, dtype=float, shape=(10000))\n",
    "s_samples = ti.Vector.field(n=3, dtype=float, shape=(10000))\n",
    "\n",
    "@ti.kernel\n",
    "def test_ti():\n",
    "    for i in b_samples:\n",
    "        b_samples[i] = uniform_ball(3.0)\n",
    "    \n",
    "    for i in s_samples:\n",
    "        s_samples[i] = uniform_sphere(3.0)\n",
    "\n",
    "test_ti()\n",
    "\n",
    "b_samples = b_samples.to_numpy()\n",
    "s_samples = s_samples.to_numpy()\n",
    "print(b_samples.shape, s_samples.shape)\n",
    "\n",
    "igl.write_off(\n",
    "    \"./ball.off\",\n",
    "    b_samples,\n",
    "    np.array([[0, 1, 2]]),\n",
    "    np.ones_like(b_samples),\n",
    ")\n",
    "\n",
    "igl.write_off(\n",
    "    \"./sphere.off\",\n",
    "    s_samples,\n",
    "    np.array([[0, 1, 2]]),\n",
    "    np.ones_like(s_samples),\n",
    ")"
   ]
  },
  {
   "cell_type": "code",
   "execution_count": null,
   "metadata": {},
   "outputs": [],
   "source": []
  }
 ],
 "metadata": {
  "kernelspec": {
   "display_name": "wos",
   "language": "python",
   "name": "python3"
  },
  "language_info": {
   "codemirror_mode": {
    "name": "ipython",
    "version": 3
   },
   "file_extension": ".py",
   "mimetype": "text/x-python",
   "name": "python",
   "nbconvert_exporter": "python",
   "pygments_lexer": "ipython3",
   "version": "3.10.14"
  }
 },
 "nbformat": 4,
 "nbformat_minor": 2
}
