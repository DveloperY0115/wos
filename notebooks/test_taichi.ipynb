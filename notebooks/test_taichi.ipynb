{
 "cells": [
  {
   "cell_type": "code",
   "execution_count": 3,
   "metadata": {},
   "outputs": [
    {
     "name": "stdout",
     "output_type": "stream",
     "text": [
      "[Taichi] Starting on arch=cuda\n",
      "\n",
      "\n"
     ]
    },
    {
     "name": "stderr",
     "output_type": "stream",
     "text": [
      "[E 06/03/24 15:22:17.314 2857967] [x11.cpp:create_window@154] Taichi fails to create a window. This is probably due to the lack of an X11 GUI environment. Consider using the `ti.GUI(show_gui=False)` option, see https://docs.taichi-lang.org/docs/gui_system\n"
     ]
    },
    {
     "ename": "RuntimeError",
     "evalue": "[x11.cpp:create_window@154] Taichi fails to create a window. This is probably due to the lack of an X11 GUI environment. Consider using the `ti.GUI(show_gui=False)` option, see https://docs.taichi-lang.org/docs/gui_system",
     "output_type": "error",
     "traceback": [
      "\u001b[0;31m---------------------------------------------------------------------------\u001b[0m",
      "\u001b[0;31mRuntimeError\u001b[0m                              Traceback (most recent call last)",
      "Cell \u001b[0;32mIn[3], line 24\u001b[0m\n\u001b[1;32m     21\u001b[0m             iterations \u001b[38;5;241m+\u001b[39m\u001b[38;5;241m=\u001b[39m \u001b[38;5;241m1\u001b[39m\n\u001b[1;32m     22\u001b[0m         pixels[i, j] \u001b[38;5;241m=\u001b[39m \u001b[38;5;241m1\u001b[39m \u001b[38;5;241m-\u001b[39m iterations \u001b[38;5;241m*\u001b[39m \u001b[38;5;241m0.02\u001b[39m\n\u001b[0;32m---> 24\u001b[0m gui \u001b[38;5;241m=\u001b[39m \u001b[43mti\u001b[49m\u001b[38;5;241;43m.\u001b[39;49m\u001b[43mGUI\u001b[49m\u001b[43m(\u001b[49m\u001b[38;5;124;43m\"\u001b[39;49m\u001b[38;5;124;43mJulia Set\u001b[39;49m\u001b[38;5;124;43m\"\u001b[39;49m\u001b[43m,\u001b[49m\u001b[43m \u001b[49m\u001b[43mres\u001b[49m\u001b[38;5;241;43m=\u001b[39;49m\u001b[43m(\u001b[49m\u001b[43mn\u001b[49m\u001b[43m \u001b[49m\u001b[38;5;241;43m*\u001b[39;49m\u001b[43m \u001b[49m\u001b[38;5;241;43m2\u001b[39;49m\u001b[43m,\u001b[49m\u001b[43m \u001b[49m\u001b[43mn\u001b[49m\u001b[43m)\u001b[49m\u001b[43m)\u001b[49m\n\u001b[1;32m     26\u001b[0m i \u001b[38;5;241m=\u001b[39m \u001b[38;5;241m0\u001b[39m\n\u001b[1;32m     27\u001b[0m \u001b[38;5;28;01mwhile\u001b[39;00m gui\u001b[38;5;241m.\u001b[39mrunning:\n",
      "File \u001b[0;32m~/miniconda3/envs/wos/lib/python3.10/site-packages/taichi/ui/gui.py:106\u001b[0m, in \u001b[0;36mGUI.__init__\u001b[0;34m(self, name, res, background_color, show_gui, fullscreen, fast_gui)\u001b[0m\n\u001b[1;32m    104\u001b[0m     \u001b[38;5;28mself\u001b[39m\u001b[38;5;241m.\u001b[39mimg \u001b[38;5;241m=\u001b[39m np\u001b[38;5;241m.\u001b[39mascontiguousarray(np\u001b[38;5;241m.\u001b[39mzeros(\u001b[38;5;28mself\u001b[39m\u001b[38;5;241m.\u001b[39mres \u001b[38;5;241m+\u001b[39m (\u001b[38;5;241m4\u001b[39m,), np\u001b[38;5;241m.\u001b[39mfloat32))\n\u001b[1;32m    105\u001b[0m     fast_buf \u001b[38;5;241m=\u001b[39m \u001b[38;5;241m0\u001b[39m\n\u001b[0;32m--> 106\u001b[0m \u001b[38;5;28mself\u001b[39m\u001b[38;5;241m.\u001b[39mcore \u001b[38;5;241m=\u001b[39m \u001b[43m_ti_core\u001b[49m\u001b[38;5;241;43m.\u001b[39;49m\u001b[43mGUI\u001b[49m\u001b[43m(\u001b[49m\u001b[43mname\u001b[49m\u001b[43m,\u001b[49m\u001b[43m \u001b[49m\u001b[43mcore_veci\u001b[49m\u001b[43m(\u001b[49m\u001b[38;5;241;43m*\u001b[39;49m\u001b[43mres\u001b[49m\u001b[43m)\u001b[49m\u001b[43m,\u001b[49m\u001b[43m \u001b[49m\u001b[43mshow_gui\u001b[49m\u001b[43m,\u001b[49m\u001b[43m \u001b[49m\u001b[43mfullscreen\u001b[49m\u001b[43m,\u001b[49m\u001b[43m \u001b[49m\u001b[43mfast_gui\u001b[49m\u001b[43m,\u001b[49m\u001b[43m \u001b[49m\u001b[43mfast_buf\u001b[49m\u001b[43m)\u001b[49m\n\u001b[1;32m    107\u001b[0m \u001b[38;5;28mself\u001b[39m\u001b[38;5;241m.\u001b[39mcanvas \u001b[38;5;241m=\u001b[39m \u001b[38;5;28mself\u001b[39m\u001b[38;5;241m.\u001b[39mcore\u001b[38;5;241m.\u001b[39mget_canvas()\n\u001b[1;32m    108\u001b[0m \u001b[38;5;28mself\u001b[39m\u001b[38;5;241m.\u001b[39mbackground_color \u001b[38;5;241m=\u001b[39m background_color\n",
      "\u001b[0;31mRuntimeError\u001b[0m: [x11.cpp:create_window@154] Taichi fails to create a window. This is probably due to the lack of an X11 GUI environment. Consider using the `ti.GUI(show_gui=False)` option, see https://docs.taichi-lang.org/docs/gui_system"
     ]
    }
   ],
   "source": [
    "import taichi as ti\n",
    "import taichi.math as tm\n",
    "\n",
    "ti.init(arch=ti.gpu)\n",
    "\n",
    "n = 320\n",
    "pixels = ti.field(dtype=float, shape=(n * 2, n))\n",
    "\n",
    "@ti.func\n",
    "def complex_sqr(z):  # complex square of a 2D vector\n",
    "    return tm.vec2(z[0] * z[0] - z[1] * z[1], 2 * z[0] * z[1])\n",
    "\n",
    "@ti.kernel\n",
    "def paint(t: float):\n",
    "    for i, j in pixels:  # Parallelized over all pixels\n",
    "        c = tm.vec2(-0.8, tm.cos(t) * 0.2)\n",
    "        z = tm.vec2(i / n - 1, j / n - 0.5) * 2\n",
    "        iterations = 0\n",
    "        while z.norm() < 20 and iterations < 50:\n",
    "            z = complex_sqr(z) + c\n",
    "            iterations += 1\n",
    "        pixels[i, j] = 1 - iterations * 0.02\n",
    "\n",
    "gui = ti.GUI(\"Julia Set\", res=(n * 2, n))\n",
    "\n",
    "i = 0\n",
    "while gui.running:\n",
    "    paint(i * 0.03)\n",
    "    gui.set_image(pixels)\n",
    "    gui.show()\n",
    "    i += 1"
   ]
  },
  {
   "cell_type": "code",
   "execution_count": null,
   "metadata": {},
   "outputs": [],
   "source": []
  }
 ],
 "metadata": {
  "kernelspec": {
   "display_name": "wos",
   "language": "python",
   "name": "python3"
  },
  "language_info": {
   "codemirror_mode": {
    "name": "ipython",
    "version": 3
   },
   "file_extension": ".py",
   "mimetype": "text/x-python",
   "name": "python",
   "nbconvert_exporter": "python",
   "pygments_lexer": "ipython3",
   "version": "3.10.14"
  }
 },
 "nbformat": 4,
 "nbformat_minor": 2
}
