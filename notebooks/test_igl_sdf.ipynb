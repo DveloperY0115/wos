{
 "cells": [
  {
   "cell_type": "code",
   "execution_count": 3,
   "metadata": {},
   "outputs": [
    {
     "name": "stdout",
     "output_type": "stream",
     "text": [
      "/Users/seungwoo/Projects/wos-project/wos\n"
     ]
    }
   ],
   "source": [
    "%cd .."
   ]
  },
  {
   "cell_type": "code",
   "execution_count": 6,
   "metadata": {},
   "outputs": [
    {
     "name": "stdout",
     "output_type": "stream",
     "text": [
      "/Users/seungwoo/Projects/wos-project/wos\n"
     ]
    }
   ],
   "source": [
    "%cd wos"
   ]
  },
  {
   "cell_type": "code",
   "execution_count": 9,
   "metadata": {},
   "outputs": [],
   "source": [
    "from pathlib import Path\n",
    "\n",
    "import igl\n",
    "import numpy as np\n",
    "\n",
    "from src.utils.geometry_utils import normalize_mesh"
   ]
  },
  {
   "cell_type": "code",
   "execution_count": 19,
   "metadata": {},
   "outputs": [
    {
     "name": "stdout",
     "output_type": "stream",
     "text": [
      "[-0.5 -0.5 -0.5] [0.49999994 0.49999994 0.49999992]\n"
     ]
    },
    {
     "data": {
      "text/plain": [
       "True"
      ]
     },
     "execution_count": 19,
     "metadata": {},
     "output_type": "execute_result"
    }
   ],
   "source": [
    "dragon_path = \"../data/xyzrgb_dragon.obj\"\n",
    "bunny_path = \"../data/stanford-bunny.obj\"\n",
    "method = \"unit_cube\"\n",
    "# assert dragon_path.exists(), \"Could not find dragon mesh\"\n",
    "\n",
    "v, f = igl.read_triangle_mesh(str(bunny_path))\n",
    "v_ = normalize_mesh(v, method=method)\n",
    "\n",
    "print(v_.min(axis=0), v_.max(axis=0))\n",
    "\n",
    "igl.write_triangle_mesh(f\"../data/stanford-bunny_{method}.obj\", v_, f)"
   ]
  },
  {
   "cell_type": "code",
   "execution_count": 33,
   "metadata": {},
   "outputs": [],
   "source": [
    "# v, f = igl.read_triangle_mesh(f\"../data/stanford-bunny_{method}.obj\")\n",
    "v, f = igl.read_triangle_mesh(f\"../data/xyzrgb_dragon_{method}.obj\")\n",
    "\n",
    "img_width = 512\n",
    "img_height = 512\n",
    "z = 0.5\n",
    "\n",
    "xs = np.linspace(-0.5, 0.5, img_width)\n",
    "ys = np.linspace(-0.5, 0.5, img_height)\n",
    "xx, yy = np.meshgrid(xs, ys, indexing=\"xy\")\n",
    "\n",
    "# Flatten the query points\n",
    "query_pts = np.stack(\n",
    "    [xx.flatten(), yy.flatten(), np.full_like(xx.flatten(), z)],\n",
    "    axis=1,\n",
    ")\n",
    "query_pts = query_pts.reshape(-1, 3).astype(np.float32)\n",
    "\n",
    "# Compute the signed distance\n",
    "d, _, _ = igl.signed_distance(query_pts, v, f)\n",
    "d = d.reshape(img_height, img_width)"
   ]
  },
  {
   "cell_type": "code",
   "execution_count": 39,
   "metadata": {},
   "outputs": [],
   "source": [
    "import matplotlib.pyplot as plt\n",
    "\n",
    "for z in np.linspace(-0.5, 0.5, 20):\n",
    "    query_pts = np.stack(\n",
    "        [xx.flatten(), yy.flatten(), np.full_like(xx.flatten(), z)],\n",
    "        axis=1,\n",
    "    )\n",
    "    query_pts = query_pts.reshape(-1, 3).astype(np.float32)\n",
    "\n",
    "    d, _, _ = igl.signed_distance(query_pts, v, f)\n",
    "    d = d.reshape(img_height, img_width)\n",
    "\n",
    "    mask = d > 0\n",
    "    d = np.where(mask, 255, 0)\n",
    "    d = d[..., None].repeat(3, axis=-1)\n",
    "\n",
    "    plt.figure()\n",
    "    # plt.imshow(d, cmap=\"coolwarm\")\n",
    "    plt.imshow(d)\n",
    "    plt.savefig(f\"../data/signed_distance_{z}.png\")\n",
    "    plt.close()"
   ]
  },
  {
   "cell_type": "code",
   "execution_count": null,
   "metadata": {},
   "outputs": [],
   "source": []
  }
 ],
 "metadata": {
  "kernelspec": {
   "display_name": "wos",
   "language": "python",
   "name": "python3"
  },
  "language_info": {
   "codemirror_mode": {
    "name": "ipython",
    "version": 3
   },
   "file_extension": ".py",
   "mimetype": "text/x-python",
   "name": "python",
   "nbconvert_exporter": "python",
   "pygments_lexer": "ipython3",
   "version": "3.10.14"
  }
 },
 "nbformat": 4,
 "nbformat_minor": 2
}
